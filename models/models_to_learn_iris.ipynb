{
 "cells": [
  {
   "cell_type": "code",
   "execution_count": null,
   "id": "933a3bab",
   "metadata": {},
   "outputs": [],
   "source": [
    "# Models for Iris dataset"
   ]
  }
 ],
 "metadata": {
  "kernelspec": {
   "display_name": "Python 3 (ipykernel)",
   "language": "python",
   "name": "python3"
  }
 },
 "nbformat": 4,
 "nbformat_minor": 5
}
