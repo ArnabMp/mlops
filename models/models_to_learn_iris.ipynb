{
 "cells": [
  {
   "cell_type": "markdown",
   "id": "80d3eea0",
   "metadata": {},
   "source": [
    "### Logistic Rgression and Random Forest for Iris data classification "
   ]
  },
  {
   "cell_type": "markdown",
   "id": "9ded302f",
   "metadata": {},
   "source": [
    "#### Import libreries"
   ]
  },
  {
   "cell_type": "code",
   "execution_count": null,
   "id": "065d84dc",
   "metadata": {},
   "outputs": [],
   "source": [
    "import pandas as pd\n",
    "from sklearn.model_selection import train_test_split\n",
    "from sklearn.linear_model import LogisticRegression\n",
    "from sklearn.ensemble import RandomForestClassifier\n",
    "from sklearn.metrics import classification_report, accuracy_score"
   ]
  },
  {
   "cell_type": "markdown",
   "id": "0dcd39eb",
   "metadata": {},
   "source": [
    "#### 1. Load dataset from GitHub"
   ]
  },
  {
   "cell_type": "code",
   "execution_count": null,
   "id": "b02dc321",
   "metadata": {},
   "outputs": [],
   "source": [
    "\n",
    "url = \"https://raw.githubusercontent.com/uiuc-cse/data-fa14/gh-pages/data/iris.csv\"\n",
    "df = pd.read_csv(url)\n"
   ]
  },
  {
   "cell_type": "markdown",
   "id": "e314ba4d",
   "metadata": {},
   "source": [
    "#### 2. Prepare data"
   ]
  },
  {
   "cell_type": "code",
   "execution_count": null,
   "id": "99565b1b",
   "metadata": {},
   "outputs": [],
   "source": [
    "X = df.drop(\"species\", axis=1)\n",
    "y = df[\"species\"]"
   ]
  },
  {
   "cell_type": "markdown",
   "id": "fa50f291",
   "metadata": {},
   "source": [
    "#### 3. Train/Test split"
   ]
  },
  {
   "cell_type": "code",
   "execution_count": null,
   "id": "f4f364c3",
   "metadata": {},
   "outputs": [],
   "source": [
    "X_train, X_test, y_train, y_test = train_test_split(X, y, test_size=0.2, random_state=42)"
   ]
  },
  {
   "cell_type": "markdown",
   "id": "0708a119",
   "metadata": {},
   "source": [
    "#### 4. Train Logistic Regression"
   ]
  },
  {
   "cell_type": "code",
   "execution_count": null,
   "id": "991e8487",
   "metadata": {},
   "outputs": [],
   "source": [
    "log_reg = LogisticRegression(max_iter=200)\n",
    "log_reg.fit(X_train, y_train)\n",
    "y_pred_log = log_reg.predict(X_test)"
   ]
  },
  {
   "cell_type": "markdown",
   "id": "0ba5650e",
   "metadata": {},
   "source": [
    "#### 5. Train Random Forest"
   ]
  },
  {
   "cell_type": "code",
   "execution_count": null,
   "id": "a88fec5c",
   "metadata": {},
   "outputs": [],
   "source": [
    "rf_clf = RandomForestClassifier(n_estimators=100, random_state=42)\n",
    "rf_clf.fit(X_train, y_train)\n",
    "y_pred_rf = rf_clf.predict(X_test)"
   ]
  },
  {
   "cell_type": "markdown",
   "id": "6464ae3e",
   "metadata": {},
   "source": [
    "#### 6. Model Evaluation"
   ]
  },
  {
   "cell_type": "code",
   "execution_count": null,
   "id": "d435e982",
   "metadata": {},
   "outputs": [],
   "source": [
    "print(\"🔹 Logistic Regression Results:\")\n",
    "print(\"Accuracy:\", accuracy_score(y_test, y_pred_log))\n",
    "print(classification_report(y_test, y_pred_log))\n",
    "\n",
    "print(\"\\n🔹 Random Forest Results:\")\n",
    "print(\"Accuracy:\", accuracy_score(y_test, y_pred_rf))\n",
    "print(classification_report(y_test, y_pred_rf))\n"
   ]
  }
 ],
 "metadata": {
  "kernelspec": {
   "display_name": "Python 3 (ipykernel)",
   "language": "python",
   "name": "python3"
  }
 },
 "nbformat": 4,
 "nbformat_minor": 5
}
